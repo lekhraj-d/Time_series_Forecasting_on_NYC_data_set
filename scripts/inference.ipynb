{
 "cells": [
  {
   "cell_type": "markdown",
   "metadata": {},
   "source": [
    "######  Note: This script can use directly for Predication just replace test_data_file as your test file"
   ]
  },
  {
   "cell_type": "code",
   "execution_count": 3,
   "metadata": {},
   "outputs": [],
   "source": [
    "# Import all used packages\n",
    "import pandas as pd\n",
    "\n",
    "import datetime\n",
    "import time\n",
    "import numpy as np\n",
    "import matplotlib\n",
    "matplotlib.use('nbagg') # for more intractive visualization like zoom out\n",
    "import matplotlib.pyplot as plt\n",
    "import seaborn as sns\n",
    "from matplotlib import rcParams\n",
    "from sklearn.cluster import MiniBatchKMeans, KMeans#Clustering\n",
    "import math\n",
    "import pickle\n",
    "import os\n",
    "import xgboost as xgb\n",
    "from lightgbm import LGBMRegressor\n",
    "import warnings\n",
    "warnings.filterwarnings(\"ignore\")"
   ]
  },
  {
   "cell_type": "code",
   "execution_count": 4,
   "metadata": {},
   "outputs": [],
   "source": [
    "test_data_file = \"../data-set/yellow_tripdata_2015-01.csv\"\n",
    "kmean_model_file = \"../model/kmean_cluster_model.sav\"\n",
    "lgbm_model_file = \"../model/lgbm_model.sav\""
   ]
  },
  {
   "cell_type": "code",
   "execution_count": 5,
   "metadata": {},
   "outputs": [],
   "source": [
    "test_data = pd.read_csv(test_data_file)"
   ]
  },
  {
   "cell_type": "code",
   "execution_count": 6,
   "metadata": {},
   "outputs": [
    {
     "name": "stdout",
     "output_type": "stream",
     "text": [
      "test data row and columns informantion\n",
      "(12748986, 19)\n",
      "Index(['VendorID', 'tpep_pickup_datetime', 'tpep_dropoff_datetime',\n",
      "       'passenger_count', 'trip_distance', 'pickup_longitude',\n",
      "       'pickup_latitude', 'RateCodeID', 'store_and_fwd_flag',\n",
      "       'dropoff_longitude', 'dropoff_latitude', 'payment_type', 'fare_amount',\n",
      "       'extra', 'mta_tax', 'tip_amount', 'tolls_amount',\n",
      "       'improvement_surcharge', 'total_amount'],\n",
      "      dtype='object')\n"
     ]
    }
   ],
   "source": [
    "#jan_data = all_data.loc[all_data.tpep_pickup_datetime.str.startswith(\"2019-1\")]\n",
    "print(\"test data row and columns informantion\")\n",
    "print(test_data.shape)\n",
    "print(test_data.columns)"
   ]
  },
  {
   "cell_type": "code",
   "execution_count": 7,
   "metadata": {},
   "outputs": [],
   "source": [
    "#Conver python date formate type into unix time format to deal better way as unix's time is presents in Seconds\n",
    "test_data[\"pickup_time_unix\"] = test_data.tpep_pickup_datetime.apply(lambda x : time.mktime(datetime.datetime.strptime(x, \"%Y-%m-%d %H:%M:%S\").timetuple()))\n",
    "test_data[\"dropoff_time_unix\"] = test_data.tpep_dropoff_datetime.apply(lambda x : time.mktime(datetime.datetime.strptime(x, \"%Y-%m-%d %H:%M:%S\").timetuple()))\n",
    "\n",
    "#Make New Trip Duration feature using pickup and dropoff time\n",
    "test_data[\"trip_duration\"] = (test_data['dropoff_time_unix'].astype(int) - test_data['pickup_time_unix'].astype(int))/float(60)\n",
    "\n",
    "#Make New Trip Speed feature for analysis\n",
    "test_data[\"speed\"] = 60*(test_data[\"trip_distance\"]/test_data[\"trip_duration\"])"
   ]
  },
  {
   "cell_type": "code",
   "execution_count": 9,
   "metadata": {},
   "outputs": [],
   "source": [
    "# if \"\"../model/kmean_cluster_model.sav\" not present in model folder you can re run data_cleaning.ipynb script and generate it\n",
    "with open(kmean_model_file,'rb') as file_obj:\n",
    "    kmeans = pickle.load(file_obj)\n",
    "    test_data['pickup_cluster'] = kmeans.predict(test_data[['pickup_latitude', 'pickup_longitude']])"
   ]
  },
  {
   "cell_type": "code",
   "execution_count": 10,
   "metadata": {},
   "outputs": [],
   "source": [
    "#Refer:https://www.unixtimestamp.com/\n",
    "start_unix_time = 1420070400\n",
    "#1575158400 : 2019-01-12 00:00:00\n",
    "\n",
    "test_data[\"10_min_bin\"] = test_data[\"pickup_time_unix\"].apply(lambda x : int(abs((x-start_unix_time)/(60*10))))\n",
    "test_groupby_10m = test_data[[\"pickup_cluster\",\"10_min_bin\",\"trip_distance\"]].groupby([\"pickup_cluster\",\"10_min_bin\"]).count()\n"
   ]
  },
  {
   "cell_type": "code",
   "execution_count": 11,
   "metadata": {},
   "outputs": [
    {
     "data": {
      "text/html": [
       "<div>\n",
       "<style scoped>\n",
       "    .dataframe tbody tr th:only-of-type {\n",
       "        vertical-align: middle;\n",
       "    }\n",
       "\n",
       "    .dataframe tbody tr th {\n",
       "        vertical-align: top;\n",
       "    }\n",
       "\n",
       "    .dataframe thead th {\n",
       "        text-align: right;\n",
       "    }\n",
       "</style>\n",
       "<table border=\"1\" class=\"dataframe\">\n",
       "  <thead>\n",
       "    <tr style=\"text-align: right;\">\n",
       "      <th></th>\n",
       "      <th>pickup_cluster</th>\n",
       "      <th>10_min_bin</th>\n",
       "      <th>trip_count</th>\n",
       "    </tr>\n",
       "  </thead>\n",
       "  <tbody>\n",
       "    <tr>\n",
       "      <th>0</th>\n",
       "      <td>0</td>\n",
       "      <td>0</td>\n",
       "      <td>72.0</td>\n",
       "    </tr>\n",
       "    <tr>\n",
       "      <th>1</th>\n",
       "      <td>0</td>\n",
       "      <td>1</td>\n",
       "      <td>70.0</td>\n",
       "    </tr>\n",
       "    <tr>\n",
       "      <th>2</th>\n",
       "      <td>0</td>\n",
       "      <td>2</td>\n",
       "      <td>66.0</td>\n",
       "    </tr>\n",
       "    <tr>\n",
       "      <th>3</th>\n",
       "      <td>0</td>\n",
       "      <td>3</td>\n",
       "      <td>72.0</td>\n",
       "    </tr>\n",
       "    <tr>\n",
       "      <th>4</th>\n",
       "      <td>0</td>\n",
       "      <td>4</td>\n",
       "      <td>90.0</td>\n",
       "    </tr>\n",
       "  </tbody>\n",
       "</table>\n",
       "</div>"
      ],
      "text/plain": [
       "   pickup_cluster  10_min_bin  trip_count\n",
       "0               0           0        72.0\n",
       "1               0           1        70.0\n",
       "2               0           2        66.0\n",
       "3               0           3        72.0\n",
       "4               0           4        90.0"
      ]
     },
     "execution_count": 11,
     "metadata": {},
     "output_type": "execute_result"
    }
   ],
   "source": [
    "test_groupby_10m.reset_index(inplace=True)\n",
    "test_groupby_10m.rename(columns = {\"trip_distance\":\"trip_count\"},inplace=True)\n",
    "test_groupby_10m[\"trip_count\"]= test_groupby_10m.trip_count.astype(float)\n",
    "test_groupby_10m.head()"
   ]
  },
  {
   "cell_type": "code",
   "execution_count": 14,
   "metadata": {},
   "outputs": [
    {
     "name": "stdout",
     "output_type": "stream",
     "text": [
      "Befor Zero filling test set size : 131349\n",
      "After Zero filling test set size : 131640\n"
     ]
    }
   ],
   "source": [
    "print(\"Befor Zero filling test set size : \"+str(len(test_groupby_10m)))\n",
    "test_groupby_10m\n",
    "new_data_dict =[]\n",
    "data_index = list(test_groupby_10m.groupby([\"pickup_cluster\",\"10_min_bin\"]).count().index.values)\n",
    "for clust in range(30):\n",
    "    for slot in range(2735):\n",
    "        if not (clust,slot) in data_index:\n",
    "            new_data_dict.append([clust,slot,0])\n",
    "\n",
    "new_data = pd.DataFrame(new_data_dict, columns= test_groupby_10m.columns)\n",
    "test_groupby_10m = test_groupby_10m.append(new_data,ignore_index=True)\n",
    "print(\"After Zero filling test set size : \"+str(len(test_groupby_10m)))"
   ]
  },
  {
   "cell_type": "code",
   "execution_count": 15,
   "metadata": {},
   "outputs": [],
   "source": [
    "def get_features(clusters):\n",
    "    val_feature = []\n",
    "    val_label = []\n",
    "    for grp, val_df in clusters:\n",
    "        val_df.sort_values(\"10_min_bin\",inplace = True)\n",
    "        val_feature.extend(np.array([ list(val_df.trip_count[i:i+5]) for i in range(len(val_df)-6)]))\n",
    "        val_label.extend( [val_df.trip_count.iloc[i+6] for i in range(len(val_df)-6)])\n",
    "    return val_feature, val_label\n",
    "    "
   ]
  },
  {
   "cell_type": "code",
   "execution_count": 17,
   "metadata": {},
   "outputs": [],
   "source": [
    "x_test, y_test = get_features(test_groupby_10m.groupby(\"pickup_cluster\"))"
   ]
  },
  {
   "cell_type": "code",
   "execution_count": 18,
   "metadata": {},
   "outputs": [],
   "source": [
    "#mean absolute percentage error\n",
    "def mean_absolute_percentage_error(y_true, y_pred): \n",
    "    y_true, y_pred = np.array(y_true), np.array(y_pred)\n",
    "    y_true = np.mean(y_true)\n",
    "    return np.mean(np.abs((y_true - y_pred) /y_true))*100"
   ]
  },
  {
   "cell_type": "code",
   "execution_count": 19,
   "metadata": {},
   "outputs": [],
   "source": [
    "with open(lgbm_model_file,'rb') as file_obj:\n",
    "    lgbm = pickle.load(file_obj)"
   ]
  },
  {
   "cell_type": "code",
   "execution_count": 21,
   "metadata": {},
   "outputs": [
    {
     "name": "stdout",
     "output_type": "stream",
     "text": [
      "Light GBM Regressor --> Test MARE : 72.12973204005037\n"
     ]
    }
   ],
   "source": [
    "y_pred = lgbm.predict(x_test)\n",
    "lgbm_test_predictions = [round(value) for value in y_pred]\n",
    "\n",
    "lgbm_mape_test = mean_absolute_percentage_error(y_test,lgbm_test_predictions)\n",
    "\n",
    "print(\"Light GBM Regressor --> Test MAPE : \"+str(lgbm_mape_test))"
   ]
  },
  {
   "cell_type": "markdown",
   "metadata": {},
   "source": [
    "###### predicted values are in \"lgbm_test_predictions\" variable can see"
   ]
  },
  {
   "cell_type": "code",
   "execution_count": null,
   "metadata": {},
   "outputs": [],
   "source": []
  }
 ],
 "metadata": {
  "kernelspec": {
   "display_name": "Python 3",
   "language": "python",
   "name": "python3"
  },
  "language_info": {
   "codemirror_mode": {
    "name": "ipython",
    "version": 3
   },
   "file_extension": ".py",
   "mimetype": "text/x-python",
   "name": "python",
   "nbconvert_exporter": "python",
   "pygments_lexer": "ipython3",
   "version": "3.7.3"
  }
 },
 "nbformat": 4,
 "nbformat_minor": 2
}
